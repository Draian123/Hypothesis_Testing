{
 "cells": [
  {
   "cell_type": "markdown",
   "metadata": {},
   "source": [
    "# Before you start:\n",
    "- Read the README.md file\n",
    "- Comment as much as you can and use the resources (README.md file)\n",
    "- Always state the H0 and H1 before conducting the hypothesis test.\n",
    "- Happy learning!"
   ]
  },
  {
   "cell_type": "code",
   "execution_count": 2,
   "metadata": {},
   "outputs": [],
   "source": [
    "# import numpy and pandas\n",
    "\n",
    "import numpy as np\n",
    "import pandas as pd\n"
   ]
  },
  {
   "cell_type": "markdown",
   "metadata": {},
   "source": [
    "# Challenge 1 - Exploring the Data\n",
    "\n",
    "In this challenge, we will examine all salaries of employees of the City of Chicago. We will start by loading the dataset and examining its contents. "
   ]
  },
  {
   "cell_type": "code",
   "execution_count": 4,
   "metadata": {},
   "outputs": [],
   "source": [
    "# Your code here:\n",
    "# Assuming the CSV file is in the same directory as your script\n",
    "file_path = \"Current_Employee_Names__Salaries__and_Position_Titles.csv\"\n",
    "\n",
    "# Read the CSV file\n",
    "data = pd.read_csv(file_path)\n"
   ]
  },
  {
   "cell_type": "markdown",
   "metadata": {},
   "source": [
    "Examine the `salaries` dataset using the `head` function below."
   ]
  },
  {
   "cell_type": "code",
   "execution_count": 5,
   "metadata": {},
   "outputs": [
    {
     "data": {
      "text/html": [
       "<div>\n",
       "<style scoped>\n",
       "    .dataframe tbody tr th:only-of-type {\n",
       "        vertical-align: middle;\n",
       "    }\n",
       "\n",
       "    .dataframe tbody tr th {\n",
       "        vertical-align: top;\n",
       "    }\n",
       "\n",
       "    .dataframe thead th {\n",
       "        text-align: right;\n",
       "    }\n",
       "</style>\n",
       "<table border=\"1\" class=\"dataframe\">\n",
       "  <thead>\n",
       "    <tr style=\"text-align: right;\">\n",
       "      <th></th>\n",
       "      <th>Name</th>\n",
       "      <th>Job Titles</th>\n",
       "      <th>Department</th>\n",
       "      <th>Full or Part-Time</th>\n",
       "      <th>Salary or Hourly</th>\n",
       "      <th>Typical Hours</th>\n",
       "      <th>Annual Salary</th>\n",
       "      <th>Hourly Rate</th>\n",
       "    </tr>\n",
       "  </thead>\n",
       "  <tbody>\n",
       "    <tr>\n",
       "      <th>0</th>\n",
       "      <td>ADRIANO,  RACQUEL ANNE</td>\n",
       "      <td>PARAMEDIC</td>\n",
       "      <td>FIRE</td>\n",
       "      <td>F</td>\n",
       "      <td>Salary</td>\n",
       "      <td>NaN</td>\n",
       "      <td>72510.0</td>\n",
       "      <td>NaN</td>\n",
       "    </tr>\n",
       "    <tr>\n",
       "      <th>1</th>\n",
       "      <td>AFFANEH,  MAHIR A</td>\n",
       "      <td>POLICE OFFICER</td>\n",
       "      <td>POLICE</td>\n",
       "      <td>F</td>\n",
       "      <td>Salary</td>\n",
       "      <td>NaN</td>\n",
       "      <td>93354.0</td>\n",
       "      <td>NaN</td>\n",
       "    </tr>\n",
       "    <tr>\n",
       "      <th>2</th>\n",
       "      <td>AFOENYI,  PHYLLIS</td>\n",
       "      <td>TITLE V PROGRAM TRAINEE I</td>\n",
       "      <td>FAMILY &amp; SUPPORT</td>\n",
       "      <td>P</td>\n",
       "      <td>Hourly</td>\n",
       "      <td>20.0</td>\n",
       "      <td>NaN</td>\n",
       "      <td>13.0</td>\n",
       "    </tr>\n",
       "    <tr>\n",
       "      <th>3</th>\n",
       "      <td>AGAR,  BULENT B</td>\n",
       "      <td>DEPUTY COMMISSIONER</td>\n",
       "      <td>WATER MGMNT</td>\n",
       "      <td>F</td>\n",
       "      <td>Salary</td>\n",
       "      <td>NaN</td>\n",
       "      <td>132972.0</td>\n",
       "      <td>NaN</td>\n",
       "    </tr>\n",
       "    <tr>\n",
       "      <th>4</th>\n",
       "      <td>AGEE,  LAWRENCE</td>\n",
       "      <td>POLICE OFFICER</td>\n",
       "      <td>POLICE</td>\n",
       "      <td>F</td>\n",
       "      <td>Salary</td>\n",
       "      <td>NaN</td>\n",
       "      <td>90024.0</td>\n",
       "      <td>NaN</td>\n",
       "    </tr>\n",
       "  </tbody>\n",
       "</table>\n",
       "</div>"
      ],
      "text/plain": [
       "                     Name                 Job Titles        Department  \\\n",
       "0  ADRIANO,  RACQUEL ANNE                  PARAMEDIC              FIRE   \n",
       "1       AFFANEH,  MAHIR A             POLICE OFFICER            POLICE   \n",
       "2       AFOENYI,  PHYLLIS  TITLE V PROGRAM TRAINEE I  FAMILY & SUPPORT   \n",
       "3         AGAR,  BULENT B        DEPUTY COMMISSIONER       WATER MGMNT   \n",
       "4         AGEE,  LAWRENCE             POLICE OFFICER            POLICE   \n",
       "\n",
       "  Full or Part-Time Salary or Hourly  Typical Hours  Annual Salary  \\\n",
       "0                 F           Salary            NaN        72510.0   \n",
       "1                 F           Salary            NaN        93354.0   \n",
       "2                 P           Hourly           20.0            NaN   \n",
       "3                 F           Salary            NaN       132972.0   \n",
       "4                 F           Salary            NaN        90024.0   \n",
       "\n",
       "   Hourly Rate  \n",
       "0          NaN  \n",
       "1          NaN  \n",
       "2         13.0  \n",
       "3          NaN  \n",
       "4          NaN  "
      ]
     },
     "execution_count": 5,
     "metadata": {},
     "output_type": "execute_result"
    }
   ],
   "source": [
    "# Your code here:\n",
    "\n",
    "data.head()"
   ]
  },
  {
   "cell_type": "markdown",
   "metadata": {},
   "source": [
    "We see from looking at the `head` function that there is quite a bit of missing data. Let's examine how much missing data is in each column. Produce this output in the cell below"
   ]
  },
  {
   "cell_type": "code",
   "execution_count": 13,
   "metadata": {},
   "outputs": [
    {
     "name": "stdout",
     "output_type": "stream",
     "text": [
      "Missing data in each column:\n",
      "Name                     0\n",
      "Job Titles               0\n",
      "Department               0\n",
      "Full or Part-Time        0\n",
      "Salary or Hourly         0\n",
      "Typical Hours        25528\n",
      "Annual Salary         8174\n",
      "Hourly Rate          25528\n",
      "dtype: int64\n"
     ]
    }
   ],
   "source": [
    "missing_data = data.isnull().sum()\n",
    "\n",
    "# Display the number of missing values in each column\n",
    "print(\"Missing data in each column:\")\n",
    "print(missing_data)"
   ]
  },
  {
   "cell_type": "markdown",
   "metadata": {},
   "source": [
    "Let's also look at the count of hourly vs. salaried employees. Write the code in the cell below"
   ]
  },
  {
   "cell_type": "code",
   "execution_count": 14,
   "metadata": {},
   "outputs": [
    {
     "name": "stdout",
     "output_type": "stream",
     "text": [
      "Count of hourly vs. salaried employees:\n",
      "Salary or Hourly\n",
      "Salary    25528\n",
      "Hourly     8174\n",
      "Name: count, dtype: int64\n"
     ]
    }
   ],
   "source": [
    "# Your code here:\n",
    "\n",
    "# Count the number of hourly and salaried employees\n",
    "employee_types = data[\"Salary or Hourly\"].value_counts()\n",
    "\n",
    "# Display the count of hourly and salaried employees\n",
    "print(\"Count of hourly vs. salaried employees:\")\n",
    "print(employee_types)"
   ]
  },
  {
   "cell_type": "markdown",
   "metadata": {},
   "source": [
    "What this information indicates is that the table contains information about two types of employees - salaried and hourly. Some columns apply only to one type of employee while other columns only apply to another kind. This is why there are so many missing values. Therefore, we will not do anything to handle the missing values."
   ]
  },
  {
   "cell_type": "markdown",
   "metadata": {},
   "source": [
    "There are different departments in the city. List all departments and the count of employees in each department."
   ]
  },
  {
   "cell_type": "code",
   "execution_count": 15,
   "metadata": {},
   "outputs": [
    {
     "name": "stdout",
     "output_type": "stream",
     "text": [
      "Count of employees in each department:\n",
      "Department\n",
      "POLICE                 13848\n",
      "FIRE                    4627\n",
      "STREETS & SAN           2175\n",
      "WATER MGMNT             1914\n",
      "AVIATION                1856\n",
      "OEMC                    1737\n",
      "TRANSPORTN              1113\n",
      "PUBLIC LIBRARY          1088\n",
      "DAIS                    1033\n",
      "FAMILY & SUPPORT         656\n",
      "FINANCE                  544\n",
      "HEALTH                   467\n",
      "LAW                      398\n",
      "CITY COUNCIL             362\n",
      "BUILDINGS                258\n",
      "PUBLIC SAFETY ADMIN      244\n",
      "BUSINESS AFFAIRS         167\n",
      "HOUSING & ECON DEV       154\n",
      "COPA                     123\n",
      "BOARD OF ELECTION        111\n",
      "MAYOR'S OFFICE           104\n",
      "INSPECTOR GEN             95\n",
      "CITY CLERK                88\n",
      "PROCUREMENT               84\n",
      "HUMAN RESOURCES           75\n",
      "ANIMAL CONTRL             75\n",
      "CULTURAL AFFAIRS          74\n",
      "HOUSING                   66\n",
      "BUDGET & MGMT             44\n",
      "ADMIN HEARNG              38\n",
      "DISABILITIES              28\n",
      "TREASURER                 28\n",
      "HUMAN RELATIONS           17\n",
      "BOARD OF ETHICS            8\n",
      "POLICE BOARD               2\n",
      "LICENSE APPL COMM          1\n",
      "Name: count, dtype: int64\n"
     ]
    }
   ],
   "source": [
    "# Your code here:\n",
    "# Count the number of employees in each department\n",
    "department_counts = data[\"Department\"].value_counts()\n",
    "\n",
    "# Display the count of employees in each department\n",
    "print(\"Count of employees in each department:\")\n",
    "print(department_counts)\n"
   ]
  },
  {
   "cell_type": "markdown",
   "metadata": {},
   "source": [
    "# Challenge 2 - Hypothesis Tests\n",
    "\n",
    "In this section of the lab, we will test whether the hourly wage of all hourly workers is significantly different from $30/hr. Import the correct one sample test function from scipy and perform the hypothesis test for a 95% two sided confidence interval."
   ]
  },
  {
   "cell_type": "code",
   "execution_count": 16,
   "metadata": {},
   "outputs": [
    {
     "name": "stdout",
     "output_type": "stream",
     "text": [
      "The hourly wage of hourly workers is significantly different from $30/hr (reject null hypothesis)\n",
      "Test statistic: 31.211500329216044\n",
      "P-value: 3.825475847673794e-202\n"
     ]
    }
   ],
   "source": [
    "# Your code here:\n",
    "from scipy.stats import ttest_1samp\n",
    "\n",
    "# Filter the data for hourly workers and remove missing values\n",
    "hourly_data = data[data[\"Salary or Hourly\"] == \"Hourly\"]\n",
    "hourly_data = hourly_data.dropna(subset=[\"Hourly Rate\"])\n",
    "\n",
    "# Perform one-sample t-test\n",
    "test_statistic, p_value = ttest_1samp(hourly_data[\"Hourly Rate\"], 30)\n",
    "\n",
    "# Define significance level\n",
    "alpha = 0.05\n",
    "\n",
    "# Check if p-value is less than alpha\n",
    "if p_value < alpha:\n",
    "    print(\"The hourly wage of hourly workers is significantly different from $30/hr (reject null hypothesis)\")\n",
    "else:\n",
    "    print(\"The hourly wage of hourly workers is not significantly different from $30/hr (fail to reject null hypothesis)\")\n",
    "\n",
    "# Display the test statistic and p-value\n",
    "print(\"Test statistic:\", test_statistic)\n",
    "print(\"P-value:\", p_value)\n",
    "\n"
   ]
  },
  {
   "cell_type": "markdown",
   "metadata": {},
   "source": [
    "We are also curious about salaries in the police force. The chief of police in Chicago claimed in a press briefing that salaries this year are higher than last year's mean of $86000/year a year for all salaried employees. Test this one sided hypothesis using a 95% confidence interval.\n",
    "\n",
    "Hint: A one tailed test has a p-value that is half of the two tailed p-value. If our Null hypothesis is less than or equal to, then to reject, the test statistic must be positive (rejects the <) and the p-value below 0.05 (rejects the =)."
   ]
  },
  {
   "cell_type": "code",
   "execution_count": 17,
   "metadata": {},
   "outputs": [
    {
     "name": "stdout",
     "output_type": "stream",
     "text": [
      "The claim that salaries in the police force this year are higher than last year's mean of $86,000/year is supported (reject null hypothesis)\n",
      "Test statistic: 18.51748561981861\n",
      "P-value: 6.119566952121482e-76\n"
     ]
    }
   ],
   "source": [
    "# Your code here:\n",
    "\n",
    "# Filter the data for police department and salaried employees, and remove missing values\n",
    "police_salary_data = data[(data[\"Department\"] == \"POLICE\") & (data[\"Salary or Hourly\"] == \"Salary\")]\n",
    "police_salary_data = police_salary_data.dropna(subset=[\"Annual Salary\"])\n",
    "\n",
    "# Perform one-sample t-test\n",
    "test_statistic, p_value = ttest_1samp(police_salary_data[\"Annual Salary\"], 86000)\n",
    "\n",
    "# Since it's a one-tailed test, divide the p-value by 2\n",
    "p_value /= 2\n",
    "\n",
    "# Define significance level\n",
    "alpha = 0.05\n",
    "\n",
    "# Check if test statistic is positive and p-value is less than alpha\n",
    "if test_statistic > 0 and p_value < alpha:\n",
    "    print(\"The claim that salaries in the police force this year are higher than last year's mean of $86,000/year is supported (reject null hypothesis)\")\n",
    "else:\n",
    "    print(\"The claim that salaries in the police force this year are higher than last year's mean of $86,000/year is not supported (fail to reject null hypothesis)\")\n",
    "\n",
    "# Display the test statistic and p-value\n",
    "print(\"Test statistic:\", test_statistic)\n",
    "print(\"P-value:\", p_value)\n",
    "\n"
   ]
  },
  {
   "cell_type": "markdown",
   "metadata": {},
   "source": [
    "Using the `crosstab` function, find the department that has the most hourly workers. "
   ]
  },
  {
   "cell_type": "code",
   "execution_count": 18,
   "metadata": {},
   "outputs": [
    {
     "name": "stdout",
     "output_type": "stream",
     "text": [
      "Department with the most hourly workers: STREETS & SAN\n"
     ]
    }
   ],
   "source": [
    "# Your code here:\n",
    "# Create a cross-tabulation table\n",
    "cross_tab = pd.crosstab(data[\"Department\"], data[\"Salary or Hourly\"])\n",
    "\n",
    "# Find the department with the most hourly workers\n",
    "department_most_hourly = cross_tab[\"Hourly\"].idxmax()\n",
    "\n",
    "# Display the department with the most hourly workers\n",
    "print(\"Department with the most hourly workers:\", department_most_hourly)\n"
   ]
  },
  {
   "cell_type": "markdown",
   "metadata": {},
   "source": [
    "The workers from the department with the most hourly workers have complained that their hourly wage is less than $35/hour. Using a one sample t-test, test this one-sided hypothesis at the 95% confidence level."
   ]
  },
  {
   "cell_type": "code",
   "execution_count": 21,
   "metadata": {},
   "outputs": [
    {
     "name": "stdout",
     "output_type": "stream",
     "text": [
      "The claim that hourly wage in the STREETS & SAN department is less than $35/hour is not supported (fail to reject null hypothesis)\n",
      "Test statistic: 4.000138803968834\n",
      "P-value: 3.2902372218867895e-05\n"
     ]
    }
   ],
   "source": [
    "# Your code here:\n",
    "# Filter the data for the department with the most hourly workers and remove missing values\n",
    "department_most_hourly_data = data[data[\"Department\"] == department_most_hourly]\n",
    "department_most_hourly_data = department_most_hourly_data.dropna(subset=[\"Hourly Rate\"])\n",
    "\n",
    "# Perform one-sample t-test\n",
    "test_statistic, p_value = ttest_1samp(department_most_hourly_data[\"Hourly Rate\"], 35)\n",
    "\n",
    "# Since it's a one-tailed test, divide the p-value by 2\n",
    "p_value /= 2\n",
    "\n",
    "# Define significance level\n",
    "alpha = 0.05\n",
    "\n",
    "# Check if test statistic is negative and p-value is less than alpha\n",
    "if test_statistic < 0 and p_value < alpha:\n",
    "    print(f\"The claim that hourly wage in the {department_most_hourly} department is less than $35/hour is supported (reject null hypothesis)\")\n",
    "else:\n",
    "    print(f\"The claim that hourly wage in the {department_most_hourly} department is less than $35/hour is not supported (fail to reject null hypothesis)\")\n",
    "\n",
    "# Display the test statistic and p-value\n",
    "print(\"Test statistic:\", test_statistic)\n",
    "print(\"P-value:\", p_value)\n"
   ]
  },
  {
   "cell_type": "markdown",
   "metadata": {},
   "source": [
    "# Challenge 3: To practice - Constructing Confidence Intervals\n",
    "\n",
    "While testing our hypothesis is a great way to gather empirical evidence for accepting or rejecting the hypothesis, another way to gather evidence is by creating a confidence interval. A confidence interval gives us information about the true mean of the population. So for a 95% confidence interval, we are 95% sure that the mean of the population is within the confidence interval. \n",
    ").\n",
    "\n",
    "To read more about confidence intervals, click [here](https://en.wikipedia.org/wiki/Confidence_interval).\n",
    "\n",
    "\n",
    "In the cell below, we will construct a 95% confidence interval for the mean hourly wage of all hourly workers. \n",
    "\n",
    "The confidence interval is computed in SciPy using the `t.interval` function. You can read more about this function [here](https://docs.scipy.org/doc/scipy-0.14.0/reference/generated/scipy.stats.t.html).\n",
    "\n",
    "To compute the confidence interval of the hourly wage, use the 0.95 for the confidence level, number of rows - 1 for degrees of freedom, the mean of the sample for the location parameter and the standard error for the scale. The standard error can be computed using [this](https://docs.scipy.org/doc/scipy/reference/generated/scipy.stats.sem.html) function in SciPy."
   ]
  },
  {
   "cell_type": "code",
   "execution_count": 22,
   "metadata": {},
   "outputs": [
    {
     "name": "stdout",
     "output_type": "stream",
     "text": [
      "95% Confidence Interval for the mean hourly wage of all hourly workers: (34.29839539204317, 34.874504045196865)\n"
     ]
    }
   ],
   "source": [
    "# Your code here:\n",
    "from scipy.stats import t, sem\n",
    "\n",
    "# Filter the data for hourly workers and remove missing values\n",
    "hourly_data = data[data[\"Salary or Hourly\"] == \"Hourly\"]\n",
    "hourly_data = hourly_data.dropna(subset=[\"Hourly Rate\"])\n",
    "\n",
    "# Calculate the mean and standard error of the hourly wage\n",
    "mean_hourly_wage = hourly_data[\"Hourly Rate\"].mean()\n",
    "std_error = sem(hourly_data[\"Hourly Rate\"])\n",
    "\n",
    "# Calculate the degrees of freedom\n",
    "degrees_of_freedom = len(hourly_data) - 1\n",
    "\n",
    "# Calculate the confidence interval\n",
    "confidence_level = 0.95\n",
    "lower_bound, upper_bound = t.interval(confidence_level, degrees_of_freedom, loc=mean_hourly_wage, scale=std_error)\n",
    "\n",
    "# Display the confidence interval\n",
    "print(f\"95% Confidence Interval for the mean hourly wage of all hourly workers: ({lower_bound}, {upper_bound})\")\n",
    "\n"
   ]
  },
  {
   "cell_type": "markdown",
   "metadata": {},
   "source": [
    "Now construct the 95% confidence interval for all salaried employeed in the police in the cell below."
   ]
  },
  {
   "cell_type": "code",
   "execution_count": 23,
   "metadata": {},
   "outputs": [
    {
     "name": "stdout",
     "output_type": "stream",
     "text": [
      "95% Confidence Interval for the mean annual salary of all salaried employees in the police department: (88534.1182885883, 89134.11955863392)\n"
     ]
    }
   ],
   "source": [
    "# Your code here:\n",
    "# Filter the data for salaried employees in the police department and remove missing values\n",
    "police_salary_data = data[(data[\"Department\"] == \"POLICE\") & (data[\"Salary or Hourly\"] == \"Salary\")]\n",
    "police_salary_data = police_salary_data.dropna(subset=[\"Annual Salary\"])\n",
    "\n",
    "# Calculate the mean and standard error of the annual salary\n",
    "mean_annual_salary = police_salary_data[\"Annual Salary\"].mean()\n",
    "std_error = sem(police_salary_data[\"Annual Salary\"])\n",
    "\n",
    "# Calculate the degrees of freedom\n",
    "degrees_of_freedom = len(police_salary_data) - 1\n",
    "\n",
    "# Calculate the confidence interval\n",
    "confidence_level = 0.95\n",
    "lower_bound, upper_bound = t.interval(confidence_level, degrees_of_freedom, loc=mean_annual_salary, scale=std_error)\n",
    "\n",
    "# Display the confidence interval\n",
    "print(f\"95% Confidence Interval for the mean annual salary of all salaried employees in the police department: ({lower_bound}, {upper_bound})\")\n"
   ]
  },
  {
   "cell_type": "markdown",
   "metadata": {},
   "source": [
    "# Bonus Challenge - Hypothesis Tests of Proportions\n",
    "\n",
    "Another type of one sample test is a hypothesis test of proportions. In this test, we examine whether the proportion of a group in our sample is significantly different than a fraction. \n",
    "\n",
    "You can read more about one sample proportion tests [here](http://sphweb.bumc.bu.edu/otlt/MPH-Modules/BS/SAS/SAS6-CategoricalData/SAS6-CategoricalData2.html).\n",
    "\n",
    "In the cell below, use the `proportions_ztest` function from `statsmodels` to perform a hypothesis test that will determine whether the number of hourly workers in the City of Chicago is significantly different from 25% at the 95% confidence level."
   ]
  },
  {
   "cell_type": "code",
   "execution_count": 24,
   "metadata": {},
   "outputs": [
    {
     "name": "stdout",
     "output_type": "stream",
     "text": [
      "The proportion of hourly workers in the City of Chicago is significantly different from 25% (reject null hypothesis)\n",
      "Test statistic: -3.1962453870335\n",
      "P-value: 0.0013922864704323116\n"
     ]
    }
   ],
   "source": [
    "# Your code here:\n",
    "from statsmodels.stats.proportion import proportions_ztest\n",
    "\n",
    "# Count the number of hourly workers\n",
    "num_hourly_workers = len(data[data[\"Salary or Hourly\"] == \"Hourly\"])\n",
    "\n",
    "# Count the total number of workers\n",
    "total_workers = len(data)\n",
    "\n",
    "# Calculate the proportion of hourly workers\n",
    "p_hourly = num_hourly_workers / total_workers\n",
    "\n",
    "# Define the null hypothesis proportion\n",
    "p_null = 0.25  # 25%\n",
    "\n",
    "# Perform one-sample proportion test\n",
    "test_statistic, p_value = proportions_ztest(num_hourly_workers, total_workers, p_null)\n",
    "\n",
    "# Define significance level\n",
    "alpha = 0.05\n",
    "\n",
    "# Check if p-value is less than alpha\n",
    "if p_value < alpha:\n",
    "    print(\"The proportion of hourly workers in the City of Chicago is significantly different from 25% (reject null hypothesis)\")\n",
    "else:\n",
    "    print(\"The proportion of hourly workers in the City of Chicago is not significantly different from 25% (fail to reject null hypothesis)\")\n",
    "\n",
    "# Display the test statistic and p-value\n",
    "print(\"Test statistic:\", test_statistic)\n",
    "print(\"P-value:\", p_value)\n",
    "\n"
   ]
  },
  {
   "cell_type": "code",
   "execution_count": null,
   "metadata": {},
   "outputs": [],
   "source": []
  }
 ],
 "metadata": {
  "kernelspec": {
   "display_name": "Python 3 (ipykernel)",
   "language": "python",
   "name": "python3"
  },
  "language_info": {
   "codemirror_mode": {
    "name": "ipython",
    "version": 3
   },
   "file_extension": ".py",
   "mimetype": "text/x-python",
   "name": "python",
   "nbconvert_exporter": "python",
   "pygments_lexer": "ipython3",
   "version": "3.11.5"
  }
 },
 "nbformat": 4,
 "nbformat_minor": 2
}
